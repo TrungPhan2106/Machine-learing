{
  "nbformat": 4,
  "nbformat_minor": 0,
  "metadata": {
    "colab": {
      "provenance": [],
      "mount_file_id": "1B6a4zYIsFb3_dhTCxwCwX4P2Up_j-GOc",
      "authorship_tag": "ABX9TyNT0e6DK4wQZUTZwtVDaejy",
      "include_colab_link": true
    },
    "kernelspec": {
      "name": "python3",
      "display_name": "Python 3"
    },
    "language_info": {
      "name": "python"
    }
  },
  "cells": [
    {
      "cell_type": "markdown",
      "metadata": {
        "id": "view-in-github",
        "colab_type": "text"
      },
      "source": [
        "<a href=\"https://colab.research.google.com/github/TrungPhan2106/Machine-learing/blob/master/MachineLearning.ipynb\" target=\"_parent\"><img src=\"https://colab.research.google.com/assets/colab-badge.svg\" alt=\"Open In Colab\"/></a>"
      ]
    },
    {
      "cell_type": "markdown",
      "source": [
        "Thư viện"
      ],
      "metadata": {
        "id": "ilNtRt2-uqni"
      }
    },
    {
      "cell_type": "code",
      "source": [
        "import numpy as np\n",
        "import pandas as pd\n",
        "import matplotlib.pyplot as plt"
      ],
      "metadata": {
        "id": "eCFLYynHupjS"
      },
      "execution_count": 1,
      "outputs": []
    },
    {
      "cell_type": "markdown",
      "source": [
        "Đọc và chuẩn bị dữ liệu"
      ],
      "metadata": {
        "id": "EudC4HEScP_6"
      }
    },
    {
      "cell_type": "code",
      "execution_count": 2,
      "metadata": {
        "id": "fbW2aaN6ZbKz",
        "colab": {
          "base_uri": "https://localhost:8080/"
        },
        "outputId": "e411347a-5003-44c1-aa3c-17b204936fac"
      },
      "outputs": [
        {
          "output_type": "stream",
          "name": "stdout",
          "text": [
            "   Temperature   Humidity  Wind_Speed  Cloud_Cover     Pressure     Rain\n",
            "0    23.720338  89.592641    7.335604    50.501694  1032.378759     rain\n",
            "1    27.879734  46.489704    5.952484     4.990053   992.614190  no rain\n",
            "2    25.069084  83.072843    1.371992    14.855784  1007.231620  no rain\n",
            "3    23.622080  74.367758    7.050551    67.255282   982.632013     rain\n",
            "4    20.591370  96.858822    4.643921    47.676444   980.825142  no rain\n",
            "<class 'pandas.core.frame.DataFrame'>\n",
            "RangeIndex: 2500 entries, 0 to 2499\n",
            "Data columns (total 6 columns):\n",
            " #   Column       Non-Null Count  Dtype  \n",
            "---  ------       --------------  -----  \n",
            " 0   Temperature  2500 non-null   float64\n",
            " 1   Humidity     2500 non-null   float64\n",
            " 2   Wind_Speed   2500 non-null   float64\n",
            " 3   Cloud_Cover  2500 non-null   float64\n",
            " 4   Pressure     2500 non-null   float64\n",
            " 5   Rain         2500 non-null   object \n",
            "dtypes: float64(5), object(1)\n",
            "memory usage: 117.3+ KB\n",
            "None\n"
          ]
        }
      ],
      "source": [
        "data = pd.read_csv('/content/drive/MyDrive/ML/weather_forecast_data.csv')\n",
        "\n",
        "print(data.head())\n",
        "print(data.info())\n",
        "\n",
        "# Chuyển đổi cột Rain thành số (0: no rain, 1: rain)\n",
        "data['Rain'] = (data['Rain'] == 'rain').astype(int)\n",
        "\n",
        "# Chuẩn bị dữ liệu\n",
        "X = data[['Temperature', 'Humidity', 'Wind_Speed', 'Cloud_Cover', 'Pressure']].values\n",
        "y = data['Rain'].values"
      ]
    },
    {
      "cell_type": "markdown",
      "source": [
        "Chuẩn hóa dữ liệu\n"
      ],
      "metadata": {
        "id": "it4LvlsKvtlx"
      }
    },
    {
      "cell_type": "code",
      "source": [
        "def normalize(X):\n",
        "    mean = np.mean(X, axis=0)\n",
        "    std = np.std(X, axis=0)\n",
        "    return (X - mean) / std, mean, std\n",
        "\n",
        "X_normalized, mean_X, std_X = normalize(X)\n",
        "\n",
        "# Thêm cột 1 vào ma trận X (bias term)\n",
        "X_normalized = np.column_stack((np.ones(X_normalized.shape[0]), X_normalized))\n",
        "\n",
        "# Chia dữ liệu thành tập train và test (80-20)\n",
        "np.random.seed(42)\n",
        "indices = np.random.permutation(len(X_normalized))\n",
        "train_size = int(0.8 * len(X_normalized))\n",
        "\n",
        "X_train = X_normalized[indices[:train_size]]\n",
        "y_train = y[indices[:train_size]]\n",
        "X_test = X_normalized[indices[train_size:]]\n",
        "y_test = y[indices[train_size:]]\n"
      ],
      "metadata": {
        "id": "R-rDWPRyvlnI"
      },
      "execution_count": 3,
      "outputs": []
    },
    {
      "cell_type": "markdown",
      "source": [
        "Triển khai Linear Regression"
      ],
      "metadata": {
        "id": "zjYygbvOv5Po"
      }
    },
    {
      "cell_type": "code",
      "source": [
        "class LogisticRegression:\n",
        "    def __init__(self, learning_rate=0.01, n_iterations=1000):\n",
        "        self.learning_rate = learning_rate\n",
        "        self.n_iterations = n_iterations\n",
        "        self.weights = None\n",
        "        self.loss_history = []\n",
        "\n",
        "    def sigmoid(self, z):\n",
        "        return 1 / (1 + np.exp(-z))\n",
        "\n",
        "    def fit(self, X, y):\n",
        "        n_samples, n_features = X.shape\n",
        "        self.weights = np.zeros(n_features)\n",
        "\n",
        "        for _ in range(self.n_iterations):\n",
        "            # Tính xác suất dự đoán\n",
        "            y_pred = self.sigmoid(np.dot(X, self.weights))\n",
        "\n",
        "            # Tính gradient\n",
        "            gradient = (1 / n_samples) * np.dot(X.T, (y_pred - y))\n",
        "\n",
        "            # Cập nhật weights\n",
        "            self.weights -= self.learning_rate * gradient\n",
        "\n",
        "            # Tính loss (log-loss)\n",
        "            loss = -(1 / n_samples) * np.sum(y * np.log(y_pred + 1e-15) + (1 - y) * np.log(1 - y_pred + 1e-15))\n",
        "            self.loss_history.append(loss)\n",
        "\n",
        "    def predict_proba(self, X):\n",
        "        return self.sigmoid(np.dot(X, self.weights))\n",
        "\n",
        "    def predict(self, X):\n",
        "        return (self.predict_proba(X) >= 0.5).astype(int)"
      ],
      "metadata": {
        "id": "MLXVsW7qxudP"
      },
      "execution_count": 4,
      "outputs": []
    },
    {
      "cell_type": "markdown",
      "source": [
        "Huấn luyện và đánh giá mô hình"
      ],
      "metadata": {
        "id": "cpN5VSslx5fr"
      }
    },
    {
      "cell_type": "code",
      "source": [
        "model = LogisticRegression(learning_rate=0.1, n_iterations=1000)\n",
        "model.fit(X_train, y_train)\n",
        "\n",
        "train_probabilities = model.predict_proba(X_train)\n",
        "print(\"\\nThống kê giá trị dự đoán trên tập train:\")\n",
        "print(f\"Min: {train_probabilities.min():.4f}\")\n",
        "print(f\"Max: {train_probabilities.max():.4f}\")\n",
        "print(f\"Mean: {train_probabilities.mean():.4f}\")\n",
        "\n",
        "# Đánh giá mô hình\n",
        "def evaluate(X, y, weights):\n",
        "    y_pred = np.dot(X, weights)  # Dự đoán xác suất\n",
        "    y_pred_binary = (y_pred >= 0.4).astype(int)  # Phân loại nhị phân\n",
        "\n",
        "    # Tính các chỉ số\n",
        "    true_positive = np.sum((y_pred_binary == 1) & (y == 1))\n",
        "    false_positive = np.sum((y_pred_binary == 1) & (y == 0))\n",
        "    false_negative = np.sum((y_pred_binary == 0) & (y == 1))\n",
        "\n",
        "    # Precision, Recall và F1-Score\n",
        "    precision = true_positive / (true_positive + false_positive) if (true_positive + false_positive) > 0 else 0\n",
        "    recall = true_positive / (true_positive + false_negative) if (true_positive + false_negative) > 0 else 0\n",
        "    f1_score = 2 * (precision * recall) / (precision + recall) if (precision + recall) > 0 else 0\n",
        "\n",
        "    # Accuracy\n",
        "    accuracy = np.mean(y_pred_binary == y)\n",
        "\n",
        "    return accuracy, precision, recall, f1_score\n",
        "\n",
        "# Tính các chỉ số trên tập train\n",
        "train_accuracy, train_precision, train_recall, train_f1 = evaluate(X_train, y_train, model.weights)\n",
        "\n",
        "# Tính các chỉ số trên tập test\n",
        "test_accuracy, test_precision, test_recall, test_f1 = evaluate(X_test, y_test, model.weights)\n",
        "\n",
        "# Hiển thị kết quả\n",
        "print(\"\\nWeights của mô hình:\")\n",
        "features = ['bias', 'Temperature', 'Humidity', 'Wind_Speed', 'Cloud_Cover', 'Pressure']\n",
        "for f, w in zip(features, model.weights):\n",
        "    print(f\"{f}: {w:.4f}\")\n",
        "\n",
        "print(\"\\nĐánh giá trên tập train:\")\n",
        "print(f\"Accuracy: {train_accuracy:.4f}\")\n",
        "print(f\"Precision: {train_precision:.4f}\")\n",
        "print(f\"Recall: {train_recall:.4f}\")\n",
        "print(f\"F1-Score: {train_f1:.4f}\")\n",
        "\n",
        "print(\"\\nĐánh giá trên tập test:\")\n",
        "print(f\"Accuracy: {test_accuracy:.4f}\")\n",
        "print(f\"Precision: {test_precision:.4f}\")\n",
        "print(f\"Recall: {test_recall:.4f}\")\n",
        "print(f\"F1-Score: {test_f1:.4f}\")\n",
        "\n",
        "# Vẽ đồ thị loss\n",
        "plt.plot(model.loss_history)\n",
        "plt.title('Loss History')\n",
        "plt.xlabel('Iteration')\n",
        "plt.ylabel('Loss')\n",
        "plt.show()"
      ],
      "metadata": {
        "colab": {
          "base_uri": "https://localhost:8080/",
          "height": 906
        },
        "id": "vQchysI8x_zz",
        "outputId": "44a871c4-bc3a-4f12-e66e-a5fa5fa2b29f"
      },
      "execution_count": 11,
      "outputs": [
        {
          "output_type": "stream",
          "name": "stdout",
          "text": [
            "\n",
            "Thống kê giá trị dự đoán trên tập train:\n",
            "Min: 0.0000\n",
            "Max: 0.9718\n",
            "Mean: 0.1328\n",
            "\n",
            "Weights của mô hình:\n",
            "bias: -3.6231\n",
            "Temperature: -1.2671\n",
            "Humidity: 1.7244\n",
            "Wind_Speed: -0.0499\n",
            "Cloud_Cover: 1.5831\n",
            "Pressure: 0.0539\n",
            "\n",
            "Đánh giá trên tập train:\n",
            "Accuracy: 0.9305\n",
            "Precision: 0.8849\n",
            "Recall: 0.5000\n",
            "F1-Score: 0.6390\n",
            "\n",
            "Đánh giá trên tập test:\n",
            "Accuracy: 0.9280\n",
            "Precision: 0.8636\n",
            "Recall: 0.5588\n",
            "F1-Score: 0.6786\n"
          ]
        },
        {
          "output_type": "display_data",
          "data": {
            "text/plain": [
              "<Figure size 640x480 with 1 Axes>"
            ],
            "image/png": "[encoded data removed]"
          },
          "metadata": {}
        }
      ]
    },
    {
      "cell_type": "markdown",
      "source": [
        "Hàm dự đoán thời tiết cho dữ liệu mới"
      ],
      "metadata": {
        "id": "xf1UbdEGyNsH"
      }
    },
    {
      "cell_type": "code",
      "source": [
        "def predict_weather(temperature, humidity, wind_speed, cloud_cover, pressure):\n",
        "    # Chuẩn hóa dữ liệu đầu vào\n",
        "    input_data = np.array([temperature, humidity, wind_speed, cloud_cover, pressure])\n",
        "    input_normalized = (input_data - mean_X) / std_X\n",
        "    input_normalized = np.insert(input_normalized, 0, 1)  # Thêm bias term\n",
        "\n",
        "    # Dự đoán\n",
        "    probability = model.predict_proba(input_normalized)\n",
        "    result = \"Rain\" if probability >= 0.4 else \"No Rain\"\n",
        "    return probability, result"
      ],
      "metadata": {
        "id": "6bjIpTH-yQDX"
      },
      "execution_count": 12,
      "outputs": []
    },
    {
      "cell_type": "markdown",
      "source": [
        "Dự đoán"
      ],
      "metadata": {
        "id": "fg-hMmnXyac2"
      }
    },
    {
      "cell_type": "code",
      "source": [
        "print(\"Nhập các thông số thời tiết:\")\n",
        "temperature = float(input(\"Nhiệt độ (10-35°C): \"))\n",
        "humidity = float(input(\"Độ ẩm (30-100%): \"))\n",
        "wind_speed = float(input(\"Tốc độ gió (0-20km/h): \"))\n",
        "cloud_cover = float(input(\"Độ che phủ mây (0-100%): \"))\n",
        "pressure = float(input(\"Áp suất (980-1050 hPa): \"))\n",
        "\n",
        "# Dự đoán\n",
        "probability, result = predict_weather(temperature, humidity, wind_speed, cloud_cover, pressure)\n",
        "\n",
        "# Hiển thị kết quả\n",
        "print(\"\\nKết quả dự đoán:\")\n",
        "print(f\"Nhiệt độ: {temperature:.2f}°C\")\n",
        "print(f\"Độ ẩm: {humidity:.2f}%\")\n",
        "print(f\"Tốc độ gió: {wind_speed:.2f} km/h\")\n",
        "print(f\"Độ che phủ mây: {cloud_cover:.2f}%\")\n",
        "print(f\"Áp suất: {pressure:.2f} hPa\")\n",
        "print(f\"Giá trị dự đoán (Prediction): {probability:.4f}\")\n",
        "print(f\"Kết luận: {result}\")\n"
      ],
      "metadata": {
        "colab": {
          "base_uri": "https://localhost:8080/"
        },
        "id": "8ShFF4ogycWn",
        "outputId": "bd974894-7a43-4298-f2d5-7447e5888de4"
      },
      "execution_count": 17,
      "outputs": [
        {
          "output_type": "stream",
          "name": "stdout",
          "text": [
            "Nhập các thông số thời tiết:\n",
            "Nhiệt độ (10-35°C): 22\n",
            "Độ ẩm (30-100%): 75\n",
            "Tốc độ gió (0-20km/h): 8\n",
            "Độ che phủ mây (0-100%): 80\n",
            "Áp suất (980-1050 hPa): 1015\n",
            "\n",
            "Kết quả dự đoán:\n",
            "Nhiệt độ: 22.00°C\n",
            "Độ ẩm: 75.00%\n",
            "Tốc độ gió: 8.00 km/h\n",
            "Độ che phủ mây: 80.00%\n",
            "Áp suất: 1015.00 hPa\n",
            "Giá trị dự đoán (Prediction): 0.2822\n",
            "Kết luận: No Rain\n"
          ]
        }
      ]
    }
  ]
}